{
 "cells": [
  {
   "cell_type": "markdown",
   "metadata": {},
   "source": [
    "# Particle Swarm Optimization (PSO)"
   ]
  },
  {
   "cell_type": "markdown",
   "metadata": {},
   "source": [
    "## Method description:"
   ]
  },
  {
   "cell_type": "markdown",
   "metadata": {},
   "source": [
    "[Wikipédia - Particle swarm optimization](https://en.wikipedia.org/wiki/Particle_swarm_optimization):\n",
    "\n",
    "> In computational science, particle swarm optimization (PSO) [1] is a computational method that optimizes a problem by iteratively trying to improve a candidate solution with regard to a given measure of quality. It solves a problem by having a population of candidate solutions, here dubbed particles, and moving these particles around in the search-space according to simple mathematical formulae over the particle's position and velocity. Each particle's movement is influenced by its local best known position, but is also guided toward the best known positions in the search-space, which are updated as better positions are found by other particles. This is expected to move the swarm toward the best solutions.\n",
    "\n",
    "[1] GOLBON-HAGHIGHI, Mohammad-Hossein et al. Pattern Synthesis for the Cylindrical Polarimetric Phased Array Radar (CPPAR). Progress In Electromagnetics Research, v. 66, p. 87-98, 2018."
   ]
  },
  {
   "cell_type": "markdown",
   "metadata": {
    "ExecuteTime": {
     "end_time": "2018-10-20T13:22:31.623978Z",
     "start_time": "2018-10-20T13:22:31.503699Z"
    }
   },
   "source": [
    "A particle swarm searching for the global minimum of a function:\n",
    "\n",
    "![ChessUrl](figures/ParticleSwarmArrowsAnimation.gif)"
   ]
  },
  {
   "cell_type": "markdown",
   "metadata": {},
   "source": [
    "## Pseudocode:\n",
    "\n",
    "Let $S$ be the number of particles in the swarm, each having a position $x_i \\in \\mathbb{R}^{n}$ in the search-space and a velocity $v_i \\in \\mathbb{R}^{n}$. Let $p_i$ be the best known position of particle $i$ and let $g$ be the best known position of the entire swarm. A basic PSO algorithm is then:\n",
    "   \n",
    "\n",
    "**for** each particle $i = 1, ..., S$ **do** <br>\n",
    "&emsp;Initialize the particle's position with a uniformly distributed random vector: $x_i \\sim U(b_{lo}, b_{up}$) <br>\n",
    "&emsp;Initialize the particle's best known position to its initial position: $p_i ← x_i$ <br>\n",
    "&emsp;**if** $f(p_i) < f(g)$ **then** <br>\n",
    "&emsp;&emsp;update the swarm's best known  position: $g ← p_i$ <br>\n",
    "&emsp;Initialize the particle's velocity: $v_i \\sim U(-\\mid b_{up}-b_{lo} \\mid, \\mid b_{up}-b_{lo} \\mid)$ <br>\n",
    "**while** a termination criterion is not met **do**: <br>\n",
    "&emsp;**for** each particle $i = 1, ..., S$ **do** <br>\n",
    "&emsp;&emsp;   **for** each dimension $d = 1, ..., n$ **do** <br>\n",
    "&emsp;&emsp;&emsp;      Pick random numbers: $r_p, r_g \\sim U(0,1)$ <br>\n",
    "&emsp;&emsp;&emsp;      Update the particle's velocity: $v_{i,d} ← \\omega v_{i,d} + \\varphi_p r_p (p_{i,d}-x_{i,d}) + \\varphi_g r_g (g_d - x_{i, d})$ <br>\n",
    "&emsp;&emsp;   Update the particle's position: $x_i ← x_i + v_i$ <br>\n",
    "&emsp;&emsp;   **if** $f(x_i) < f(p_i)$ **then** <br>\n",
    "&emsp;&emsp;&emsp;      Update the particle's best known position: $p_i ← x_i$ <br>\n",
    "&emsp;&emsp;&emsp;      **if** $f(p_i) < f(g)$ **then** <br>\n",
    "&emsp;&emsp;&emsp;         Update the swarm's best known position: $g ← p_i$ <br>\n",
    "\n",
    "\n",
    "The values $b_{lo}$ and $b_{up}$ are respectively the lower and upper boundaries of the search-space. The termination criterion can be the number of iterations performed, or a solution where the adequate objective function value is found.[11] The parameters $\\omega$, $\\varphi_p$, and $\\varphi_g$ are selected by the practitioner and control the behaviour and efficacy of the PSO method"
   ]
  },
  {
   "cell_type": "markdown",
   "metadata": {},
   "source": [
    "The function that will be used in used in this notebook is:\n",
    "\n",
    "$\\large f(x) = x (sen(10\\pi x)) + 1$\n",
    "\n",
    "Where we try to maximize the $f(x)$."
   ]
  },
  {
   "cell_type": "markdown",
   "metadata": {},
   "source": [
    "# Execution of PSO"
   ]
  },
  {
   "cell_type": "code",
   "execution_count": 1,
   "metadata": {
    "ExecuteTime": {
     "end_time": "2018-10-20T21:54:26.949740Z",
     "start_time": "2018-10-20T21:54:26.933151Z"
    }
   },
   "outputs": [],
   "source": [
    "# Third-party libraries\n",
    "import numpy as np\n",
    "from numpy import absolute\n",
    "from numpy.random import uniform, choice\n",
    "from random import randint\n",
    "\n",
    "from IPython.display import HTML, display\n",
    "from pprint import pprint\n",
    "from tabulate import tabulate"
   ]
  },
  {
   "cell_type": "code",
   "execution_count": 2,
   "metadata": {
    "ExecuteTime": {
     "end_time": "2018-10-20T21:54:26.964424Z",
     "start_time": "2018-10-20T21:54:26.953800Z"
    }
   },
   "outputs": [],
   "source": [
    "# Codes Implemented\n",
    "from python_codes.evaluation import fitness_fx\n",
    "from python_codes.particle import Particle"
   ]
  },
  {
   "cell_type": "code",
   "execution_count": 3,
   "metadata": {
    "ExecuteTime": {
     "end_time": "2018-10-20T21:54:26.977524Z",
     "start_time": "2018-10-20T21:54:26.966539Z"
    }
   },
   "outputs": [],
   "source": [
    "# Constant parameters\n",
    "(b_lo, b_up) = (0, 20)  # Lower and up boundaries\n",
    "n_dimensions = 5        # Number of genes per particle\n",
    "n_particles = 100       # Number of particles in population\n",
    "n_neighbors = 2         # Number of neighbors for each particle\n",
    "n_iters = 100           # Number of iterations (criterion)\n",
    "g = None                # Best known position (vector)\n",
    "omega = .8              # Omega contant\n",
    "phi_p = .5              # Phi p constant\n",
    "phi_g = .5              # Phi g constant"
   ]
  },
  {
   "cell_type": "code",
   "execution_count": 4,
   "metadata": {
    "ExecuteTime": {
     "end_time": "2018-10-20T21:54:27.002652Z",
     "start_time": "2018-10-20T21:54:26.979351Z"
    }
   },
   "outputs": [],
   "source": [
    "# Generate particle population\n",
    "particle_pop = []\n",
    "\n",
    "for i in range(n_particles):\n",
    "    part_velocity = uniform(-absolute(b_lo - b_up),\n",
    "                            absolute(b_lo - b_up),\n",
    "                            size=n_dimensions)\n",
    "    part_position = uniform(low=b_lo, high=b_up, size=n_dimensions)\n",
    "    best_position = part_position\n",
    "    \n",
    "    if g is not None:\n",
    "        if fitness_fx(best_position) > fitness_fx(g):\n",
    "            g = p_i\n",
    "    else:\n",
    "        g = best_position\n",
    "\n",
    "    \n",
    "    \n",
    "    p = Particle(position=part_position, velocity=part_velocity, best_position=best_position)\n",
    "    particle_pop.append(p)\n",
    "    \n",
    "# Define the neighborhood of each particle\n",
    "for particle in particle_pop:\n",
    "    neighbors = choice(particle_pop, size=n_neighbors)\n",
    "    particle.neighbors_particles = neighbors"
   ]
  },
  {
   "cell_type": "code",
   "execution_count": null,
   "metadata": {},
   "outputs": [],
   "source": []
  },
  {
   "cell_type": "code",
   "execution_count": 5,
   "metadata": {
    "ExecuteTime": {
     "end_time": "2018-10-20T21:54:29.543963Z",
     "start_time": "2018-10-20T21:54:29.538872Z"
    },
    "scrolled": true
   },
   "outputs": [
    {
     "name": "stdout",
     "output_type": "stream",
     "text": [
      "Some particles samples:\n",
      "\n",
      "Particle position: [11.72076295 16.98572912  0.87469711 16.55921312  4.92263773]\n",
      "Velocity: [ -9.33036538  -4.59444733 -11.85514142 -19.34108043 -13.38515012]\n",
      "Best position: [11.72076295 16.98572912  0.87469711 16.55921312  4.92263773]\n",
      "Positions of neighboring particles:\n",
      "[array([ 6.00776554, 17.92138715, 19.79762073,  8.49376739,  7.24376913]), array([ 4.31992696,  2.45241416, 16.42616738,  3.33571233, 18.11504531])]\n",
      "\n",
      "Particle position: [18.48182519  0.19107333 15.13849177  6.6039012   0.10730627]\n",
      "Velocity: [ -6.17435456 -13.78747081   8.19574619   1.88950138  13.96871365]\n",
      "Best position: [18.48182519  0.19107333 15.13849177  6.6039012   0.10730627]\n",
      "Positions of neighboring particles:\n",
      "[array([ 2.72285418,  7.2594459 , 10.63934371,  2.51246143, 15.00150287]), array([ 2.72285418,  7.2594459 , 10.63934371,  2.51246143, 15.00150287])]\n",
      "\n",
      "Particle position: [17.62602432 10.42064158 16.28878321  8.28784923  7.32833991]\n",
      "Velocity: [ 5.1814166  18.14894971 -3.29120941 -5.83046845  5.92468173]\n",
      "Best position: [17.62602432 10.42064158 16.28878321  8.28784923  7.32833991]\n",
      "Positions of neighboring particles:\n",
      "[array([ 6.47780843, 14.01380509, 11.50551187, 14.49841634, 10.91000031]), array([ 1.35190133, 17.30596042, 10.95692792,  7.99205026,  3.13628929])]\n"
     ]
    }
   ],
   "source": [
    "print('Some particles samples:\\n')\n",
    "print(*particle_pop[:3], sep='\\n\\n')"
   ]
  },
  {
   "cell_type": "code",
   "execution_count": 10,
   "metadata": {
    "ExecuteTime": {
     "end_time": "2018-10-20T19:45:18.687011Z",
     "start_time": "2018-10-20T19:45:18.677999Z"
    }
   },
   "outputs": [
    {
     "name": "stdout",
     "output_type": "stream",
     "text": [
      "Best known position (g):  19.453106301048354\n",
      "f(g):  20.36055104009048\n"
     ]
    }
   ],
   "source": [
    "print('Best known position (g): ', g)\n",
    "print('f(g): ', fitness_fx(g))"
   ]
  },
  {
   "cell_type": "code",
   "execution_count": 28,
   "metadata": {
    "ExecuteTime": {
     "end_time": "2018-10-20T20:01:13.065266Z",
     "start_time": "2018-10-20T20:01:13.055123Z"
    }
   },
   "outputs": [
    {
     "name": "stdout",
     "output_type": "stream",
     "text": [
      "[ 1.28971471 -2.8654153  12.97317992 -6.91261017  4.62173234]\n",
      "5.380517768532121\n"
     ]
    }
   ],
   "source": [
    "for it in range(n_iters):\n",
    "    for i in particles:\n",
    "        # Update particle velociy\n",
    "        velocity_up = []        \n",
    "        for x_id, v_id in zip(i.x, i.velocity):\n",
    "            r_p, r_g = uniform(), uniform()\n",
    "            v_id = omega * v_id + phi_p * r_p * (i.p_i - x_id) + phi_g * r_g * (g - x_id) \n",
    "            \n",
    "            velocity_up.append(v_id)\n",
    "            \n",
    "        velocity_up = np.array(velocity_up)\n",
    "        i.velocity = velocity_up\n",
    "        \n",
    "        # Update particle position\n",
    "        i.x += velocity_up\n",
    "        \n",
    "        # Update p_i\n",
    "        fx = fitness_fx(i.x)\n",
    "        print(fitness_fx(fx))\n",
    "        print(fitness_fx(i.p_i))\n",
    "        \n",
    "        break\n",
    "    break"
   ]
  }
 ],
 "metadata": {
  "kernelspec": {
   "display_name": "Python 3",
   "language": "python",
   "name": "python3"
  },
  "language_info": {
   "codemirror_mode": {
    "name": "ipython",
    "version": 3
   },
   "file_extension": ".py",
   "mimetype": "text/x-python",
   "name": "python",
   "nbconvert_exporter": "python",
   "pygments_lexer": "ipython3",
   "version": "3.6.4"
  },
  "toc": {
   "base_numbering": 1,
   "nav_menu": {},
   "number_sections": true,
   "sideBar": true,
   "skip_h1_title": false,
   "title_cell": "Table of Contents",
   "title_sidebar": "Contents",
   "toc_cell": false,
   "toc_position": {},
   "toc_section_display": true,
   "toc_window_display": false
  },
  "varInspector": {
   "cols": {
    "lenName": 16,
    "lenType": 16,
    "lenVar": 40
   },
   "kernels_config": {
    "python": {
     "delete_cmd_postfix": "",
     "delete_cmd_prefix": "del ",
     "library": "var_list.py",
     "varRefreshCmd": "print(var_dic_list())"
    },
    "r": {
     "delete_cmd_postfix": ") ",
     "delete_cmd_prefix": "rm(",
     "library": "var_list.r",
     "varRefreshCmd": "cat(var_dic_list()) "
    }
   },
   "types_to_exclude": [
    "module",
    "function",
    "builtin_function_or_method",
    "instance",
    "_Feature"
   ],
   "window_display": false
  }
 },
 "nbformat": 4,
 "nbformat_minor": 2
}
